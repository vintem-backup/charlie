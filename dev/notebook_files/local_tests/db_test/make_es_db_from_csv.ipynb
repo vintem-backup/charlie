{
 "cells": [
  {
   "cell_type": "code",
   "execution_count": null,
   "metadata": {},
   "outputs": [],
   "source": [
    "#Este programa deve ler o arquivo .csv com dados de mercado e portar \n",
    "#estes dados para o elasticsearch\n",
    "\n",
    "\"\"\"\n",
    "*Modelo de estrutura do dado:\n",
    "{\n",
    "\"_index\":\"marketdata-btcusdt-binance\",\n",
    "\"_type\":\"marketdata\", --> Type será depreciado do projeto elasticsearch*\n",
    "        *https://www.elastic.co/guide/en/elasticsearch/reference/master/removal-of-types.html\n",
    "\"_id\":\"<timestamp>\",\n",
    "\"_version\":1,\n",
    "\"_seq_no\":0,\n",
    "\"_primary_term\":1,\n",
    "\"found\":true,\n",
    "    \"_source\":{\n",
    "    \"Open\":\"3839.94\", \n",
    "    \"High\":\"3839.98\", \n",
    "    \"Low\":\"3735.0\", \n",
    "    \"Close\":\"3735.0\", \n",
    "    \"Volume\":\"24.85793\", \n",
    "    \"N_of_trades\":\"129.0\"\n",
    "    }\n",
    "}\n",
    "\n",
    "\"\"\""
   ]
  },
  {
   "cell_type": "code",
   "execution_count": 137,
   "metadata": {},
   "outputs": [],
   "source": [
    "#!/usr/bin/env python3\n",
    "\n",
    "#Importando bibliotecas\n",
    "\n",
    "#import elasticsearch_dsl\n",
    "from elasticsearch_dsl import Document, Float\n",
    "from elasticsearch_dsl.connections import connections\n",
    "\n",
    "import pandas as pd\n",
    "\n",
    "import sys\n",
    "import os\n",
    "\n",
    "from datetime import datetime\n",
    "import time"
   ]
  },
  {
   "cell_type": "code",
   "execution_count": 87,
   "metadata": {},
   "outputs": [],
   "source": [
    "#Lendo os dados .csv\n",
    "\n",
    "csv_data_path = os.getcwd().split(sep=\"notebook_files/local_tests/db_test\")[0] +'local_tests/db_test/'\n",
    "\n",
    "market_data = pd.read_csv(csv_data_path+'dados.csv', index_col='Open_time', parse_dates=['Open_time','Close_time'], infer_datetime_format=True)    "
   ]
  },
  {
   "cell_type": "code",
   "execution_count": 141,
   "metadata": {},
   "outputs": [],
   "source": [
    "connections.create_connection(hosts=['localhost'])\n",
    "\n",
    "class Candle(Document):\n",
    "    Open = Float()\n",
    "    High = Float()\n",
    "    Low = Float()\n",
    "    Close = Float()\n",
    "    Volume = Float()\n",
    "    N_of_trades = Float()\n",
    "    \n",
    "    class Index:\n",
    "        name = 'marketdata-btcusdt-binance'\n",
    "    \n",
    "    def save(self, **kwargs):\n",
    "        return super(Candle, self).save(**kwargs)\n",
    "    \n",
    "Candle.init()\n",
    "\n",
    "for i in range(0,len(market_data)):\n",
    "    candle = Candle(meta={'id': time.mktime((market_data.index[i]).timetuple())})\n",
    "    candle.Open = float(market_data.Open[i])\n",
    "    candle.High = float(market_data.High[i])\n",
    "    candle.Low = float(market_data.Low[i])\n",
    "    candle.Close = float(market_data.Close[i])\n",
    "    candle.Volume = float(market_data.Volume[i])\n",
    "    candle.N_of_trades = float(market_data.N_of_trades[i])\n",
    "   \n",
    "    candle.save()"
   ]
  },
  {
   "cell_type": "code",
   "execution_count": null,
   "metadata": {},
   "outputs": [],
   "source": []
  }
 ],
 "metadata": {
  "kernelspec": {
   "display_name": "Python 3",
   "language": "python",
   "name": "python3"
  },
  "language_info": {
   "codemirror_mode": {
    "name": "ipython",
    "version": 3
   },
   "file_extension": ".py",
   "mimetype": "text/x-python",
   "name": "python",
   "nbconvert_exporter": "python",
   "pygments_lexer": "ipython3",
   "version": "3.7.1"
  }
 },
 "nbformat": 4,
 "nbformat_minor": 2
}
