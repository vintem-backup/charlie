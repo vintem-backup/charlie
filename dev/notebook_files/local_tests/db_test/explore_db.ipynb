{
 "cells": [
  {
   "cell_type": "markdown",
   "metadata": {},
   "source": [
    "Este programa deve acessar um banco de dados ES a fim de que seus dados possam ser manipulados.\n",
    "\n",
    "- Deve buscar o último dado indexado em determinado indice\n",
    "- Ler uma sequência de dados, variando a ID por um passo equivalente ao tamanho do candle\n",
    "- Tratar exceções"
   ]
  },
  {
   "cell_type": "code",
   "execution_count": 28,
   "metadata": {},
   "outputs": [],
   "source": [
    "#!/usr/bin/env python3\n",
    "\n",
    "#Importando bibliotecas\n",
    "\n",
    "#(1) - Elasticsearch\n",
    "from elasticsearch import Elasticsearch,helpers\n",
    "\n",
    "#from elasticsearch import Elasticsearch\n",
    "#from elasticsearch_dsl import Search\n",
    "#from elasticsearch_dsl.connections import connections\n",
    "\n",
    "#(2) - Data processing\n",
    "import pandas as pd\n",
    "\n",
    "#(3) - System\n",
    "#import sys\n",
    "#import os\n",
    "\n",
    "#(4) - Timers\n",
    "#from datetime import datetime\n",
    "#import time\n",
    "\n",
    "#(5) - Web conection\n",
    "import requests"
   ]
  },
  {
   "cell_type": "code",
   "execution_count": 2,
   "metadata": {},
   "outputs": [],
   "source": [
    "\n",
    "\n",
    "es = Elasticsearch(hosts=['localhost:9200'])\n",
    "\n",
    "res=helpers.scan(es,query={\"query\":{\"match_all\": {}}},scroll='1m',index='marketdata-btcusdt-binance')\n",
    "\n",
    "ids=[ID['_id'] for ID in res]\n",
    "\n",
    "last_data_id=ids[len(ids)-1]"
   ]
  },
  {
   "cell_type": "code",
   "execution_count": 3,
   "metadata": {},
   "outputs": [
    {
     "name": "stdout",
     "output_type": "stream",
     "text": [
      "1505576700.0\n"
     ]
    }
   ],
   "source": [
    "print(last_data_id)"
   ]
  },
  {
   "cell_type": "code",
   "execution_count": 4,
   "metadata": {},
   "outputs": [
    {
     "name": "stdout",
     "output_type": "stream",
     "text": [
      "['1505492100.0', '1505491200.0', '1505493900.0', '1505497500.0', '1505495700.0', '1505493000.0', '1505494800.0', '1505496600.0', '1505502000.0', '1505499300.0', '1505498400.0', '1505510100.0', '1505500200.0', '1505502900.0', '1505501100.0', '1505503800.0', '1505516400.0', '1505504700.0', '1505507400.0', '1505505600.0', '1505506500.0', '1505532600.0', '1505511000.0', '1505514600.0', '1505520900.0', '1505508300.0', '1505534400.0', '1505511900.0', '1505515500.0', '1505529900.0', '1505509200.0', '1505536200.0', '1505517300.0', '1505522700.0', '1505533500.0', '1505512800.0', '1505545200.0', '1505518200.0', '1505524500.0', '1505535300.0', '1505513700.0', '1505547900.0', '1505519100.0', '1505525400.0', '1505540700.0', '1505520000.0', '1505553300.0', '1505521800.0', '1505529000.0', '1505551500.0', '1505528100.0', '1505554200.0', '1505523600.0', '1505531700.0', '1505557800.0', '1505530800.0', '1505558700.0', '1505526300.0', '1505537100.0', '1505559600.0', '1505539800.0', '1505563200.0', '1505527200.0', '1505538000.0', '1505560500.0', '1505542500.0', '1505568600.0', '1505538900.0', '1505541600.0', '1505561400.0', '1505547000.0', '1505570400.0', '1505543400.0', '1505546100.0', '1505564100.0', '1505548800.0', '1505573100.0', '1505544300.0', '1505566800.0', '1505567700.0', '1505549700.0', '1505575800.0', '1505550600.0', '1505569500.0', '1505571300.0', '1505552400.0', '1505577600.0', '1505555100.0', '1505572200.0', '1505574900.0', '1505556900.0', '1505579400.0', '1505556000.0', '1505578500.0', '1505562300.0', '1505565900.0', '1505565000.0', '1505574000.0', '1505576700.0']\n"
     ]
    }
   ],
   "source": [
    "print(ids)"
   ]
  },
  {
   "cell_type": "code",
   "execution_count": 32,
   "metadata": {},
   "outputs": [],
   "source": [
    "\n",
    "r = requests.get('http://localhost:9200/marketdata-btcusdt-binance/doc/1505491200.0/_source/').json()['Open']\n",
    "dic=r.json()\n"
   ]
  },
  {
   "cell_type": "code",
   "execution_count": 45,
   "metadata": {},
   "outputs": [
    {
     "data": {
      "text/plain": [
       "3839.94"
      ]
     },
     "execution_count": 45,
     "metadata": {},
     "output_type": "execute_result"
    }
   ],
   "source": [
    "dic['Open']"
   ]
  },
  {
   "cell_type": "code",
   "execution_count": null,
   "metadata": {},
   "outputs": [],
   "source": []
  },
  {
   "cell_type": "code",
   "execution_count": null,
   "metadata": {},
   "outputs": [],
   "source": []
  },
  {
   "cell_type": "code",
   "execution_count": null,
   "metadata": {},
   "outputs": [],
   "source": []
  },
  {
   "cell_type": "code",
   "execution_count": null,
   "metadata": {},
   "outputs": [],
   "source": []
  },
  {
   "cell_type": "code",
   "execution_count": 46,
   "metadata": {},
   "outputs": [
    {
     "data": {
      "text/plain": [
       "3839.94"
      ]
     },
     "execution_count": 46,
     "metadata": {},
     "output_type": "execute_result"
    }
   ],
   "source": [
    "requests.get('http://localhost:9200/marketdata-btcusdt-binance/doc/1505491200.0/_source/').json()['Open']"
   ]
  },
  {
   "cell_type": "code",
   "execution_count": null,
   "metadata": {},
   "outputs": [],
   "source": []
  }
 ],
 "metadata": {
  "kernelspec": {
   "display_name": "Python 3",
   "language": "python",
   "name": "python3"
  },
  "language_info": {
   "codemirror_mode": {
    "name": "ipython",
    "version": 3
   },
   "file_extension": ".py",
   "mimetype": "text/x-python",
   "name": "python",
   "nbconvert_exporter": "python",
   "pygments_lexer": "ipython3",
   "version": "3.7.1"
  }
 },
 "nbformat": 4,
 "nbformat_minor": 2
}
