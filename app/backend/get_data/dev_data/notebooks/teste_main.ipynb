{
 "cells": [
  {
   "cell_type": "code",
   "execution_count": 1,
   "metadata": {
    "collapsed": true
   },
   "outputs": [],
   "source": [
    "# coding: utf-8\n",
    "# Module ?: \n",
    "\n",
    "\"\"\"\n",
    "Deve ler o arquivo de dados de mercado, caso exista, ou criá-lo a partir de dados da corretora, respeitando os \n",
    "parâmetros do arquivo de parâmetros.\n",
    "\"\"\"\n",
    "\n",
    "import sys\n",
    "import os\n",
    "\n",
    "sys.path.append(os.getcwd().split(sep=\"notebooks\")[0]) # Trocar o noteboooks antes de passar pro .py\n",
    "#import modules\n",
    "from modules.db_data import db_feeder as db\n",
    "from elasticsearch import Elasticsearch\n",
    "\n",
    "from elasticsearch_dsl import Document, Float\n",
    "from elasticsearch_dsl.connections import connections\n",
    "\n",
    "import pandas as pd\n",
    "\n",
    "from datetime import datetime\n",
    "import time"
   ]
  },
  {
   "cell_type": "code",
   "execution_count": 2,
   "metadata": {
    "collapsed": true
   },
   "outputs": [],
   "source": [
    "symbol = 'BTCUSDT'\n",
    "interval = '1m'\n",
    "start_str = '1 hour ago UTC'"
   ]
  },
  {
   "cell_type": "code",
   "execution_count": 3,
   "metadata": {
    "collapsed": true
   },
   "outputs": [],
   "source": [
    "from binance.client import Client\n",
    "client = Client(\"\",\"\")\n",
    "es = Elasticsearch(hosts=['localhost:9200'])"
   ]
  },
  {
   "cell_type": "code",
   "execution_count": 176,
   "metadata": {},
   "outputs": [
    {
     "data": {
      "text/plain": [
       "{'acknowledged': True}"
      ]
     },
     "execution_count": 176,
     "metadata": {},
     "output_type": "execute_result"
    }
   ],
   "source": [
    "es.indices.delete(index='marketdata-btcusdt-binance', ignore=[400, 404])"
   ]
  },
  {
   "cell_type": "code",
   "execution_count": 132,
   "metadata": {},
   "outputs": [
    {
     "name": "stdout",
     "output_type": "stream",
     "text": [
      "2019-02-25 13:21:00\n"
     ]
    }
   ],
   "source": [
    "hist = client.get_historical_klines(symbol,interval,start_str)\n",
    "del hist[-1]\n",
    "print(datetime.utcfromtimestamp(hist[len(hist)-1][0]/1000))"
   ]
  },
  {
   "cell_type": "code",
   "execution_count": 103,
   "metadata": {
    "collapsed": true
   },
   "outputs": [],
   "source": [
    "#es.indices.delete(index='marketdata-btcusdt-binance', ignore=[400, 404])"
   ]
  },
  {
   "cell_type": "code",
   "execution_count": 147,
   "metadata": {},
   "outputs": [
    {
     "name": "stdout",
     "output_type": "stream",
     "text": [
      "Dados atualizados: \n",
      " Ultimo Candle coletado: 2019-02-27 13:43:00\n"
     ]
    }
   ],
   "source": [
    "connections.create_connection(hosts=['localhost:9200'])\n",
    "\n",
    "class Candle(Document):\n",
    "    Open = Float()\n",
    "    High = Float()\n",
    "    Low = Float()\n",
    "    Close = Float()\n",
    "    Volume = Float()\n",
    "    Close_time = Float()\n",
    "    Quote_asset_vol = Float()\n",
    "    N_of_trades = Float()\n",
    "    Taker_buy_base_asset_vol = Float()\n",
    "    Taker_buy_quote_asset_vol = Float()\n",
    "    \n",
    "    class Index:\n",
    "        name = 'marketdata-btcusdt-binance'\n",
    "    \n",
    "    def save(self, **kwargs):\n",
    "        return super(Candle, self).save(**kwargs)\n",
    "    \n",
    "def indexing_new_data(hist):\n",
    "    \"\"\" Indexes list 'hist' received by binance.\n",
    "    \"\"\"\n",
    "    for i in range(0,len(hist)): #Indexing 'Hist'\n",
    "        candle = Candle(meta={'id': hist[i][0]})\n",
    "        candle.Open = float(hist[i][1])\n",
    "        candle.High = float(hist[i][2])\n",
    "        candle.Low = float(hist[i][3])\n",
    "        candle.Close = float(hist[i][4])\n",
    "        candle.Volume = float(hist[i][5])\n",
    "        candle.Close_time = hist[i][6]\n",
    "        candle.Quote_asset_vol = float(hist[i][7])\n",
    "        candle.N_of_trades = float(hist[i][8])\n",
    "        candle.Taker_buy_base_asset_vol = float(hist[i][9])\n",
    "        candle.Taker_buy_quote_asset_vol = float(hist[i][10])\n",
    "    \n",
    "        candle.save()\n",
    "    \n",
    "\n",
    "  \n"
   ]
  },
  {
   "cell_type": "code",
   "execution_count": 170,
   "metadata": {},
   "outputs": [
    {
     "name": "stdout",
     "output_type": "stream",
     "text": [
      "Dados atualizados: \n",
      " Ultimo Candle coletado: 2019-02-27 13:57:00\n"
     ]
    }
   ],
   "source": [
    "try:\n",
    "    res=es.search(index='marketdata-btcusdt-binance', size = 1, sort = \"_id:desc\") # Indentify last ID: Open_time\n",
    "    close_time = int(res['hits']['hits'][0]['_source']['Close_time'])\n",
    "    hist_new = db.get_historical_klines_from_ts(symbol,interval,close_time)\n",
    "    del hist_new[-1]\n",
    "    if len(hist_new):\n",
    "        Candle.init()\n",
    "        indexing_new_data(hist_new)\n",
    "        time.sleep(1)\n",
    "        res2=es.search(index='marketdata-btcusdt-binance', size = 1, sort = \"_id:desc\")\n",
    "        u_c = datetime.utcfromtimestamp(float(res2['hits']['hits'][0]['_id'])/1000)\n",
    "        print('Dados atualizados: \\n Ultimo Candle coletado:',u_c)\n",
    "    else:\n",
    "        print('Tempo curto. Nao foi possivel atualizar candle.')\n",
    "except: # In case index doens't exist\n",
    "    Candle.init()\n",
    "    indexing_new_data(hist)\n",
    "    print('Index criado')"
   ]
  },
  {
   "cell_type": "code",
   "execution_count": 171,
   "metadata": {},
   "outputs": [
    {
     "data": {
      "text/plain": [
       "42.73247408866882"
      ]
     },
     "execution_count": 171,
     "metadata": {},
     "output_type": "execute_result"
    }
   ],
   "source": [
    "dt = float(res2['hits']['hits'][0]['_id'])/1000 - time.time()+120\n",
    "dt"
   ]
  },
  {
   "cell_type": "code",
   "execution_count": 164,
   "metadata": {
    "collapsed": true
   },
   "outputs": [],
   "source": [
    "close_time = float(res['hits']['hits'][0]['_source']['Close_time'])"
   ]
  },
  {
   "cell_type": "code",
   "execution_count": 24,
   "metadata": {},
   "outputs": [
    {
     "data": {
      "text/plain": [
       "{'took': 250,\n",
       " 'timed_out': False,\n",
       " '_shards': {'total': 5, 'successful': 5, 'skipped': 0, 'failed': 0},\n",
       " 'hits': {'total': 60,\n",
       "  'max_score': None,\n",
       "  'hits': [{'_index': 'marketdata-btcusdt-binance',\n",
       "    '_type': 'doc',\n",
       "    '_id': '1550750040000',\n",
       "    '_score': None,\n",
       "    '_source': {'Open': 3922.5,\n",
       "     'High': 3923.06,\n",
       "     'Low': 3921.8,\n",
       "     'Close': 3922.99,\n",
       "     'Volume': 3.276268,\n",
       "     'Close_time': 1550750099999.0,\n",
       "     'Quote_asset_vol': 12851.73789994,\n",
       "     'N_of_trades': 47.0,\n",
       "     'Taker_buy_base_asset_vol': 2.126405,\n",
       "     'Taker_buy_quote_asset_vol': 8341.32132994},\n",
       "    'sort': ['1550750040000']}]}}"
      ]
     },
     "execution_count": 24,
     "metadata": {},
     "output_type": "execute_result"
    }
   ],
   "source": [
    "res"
   ]
  },
  {
   "cell_type": "code",
   "execution_count": 118,
   "metadata": {
    "collapsed": true
   },
   "outputs": [],
   "source": [
    "hist_new = db.get_historical_klines_from_ts(symbol,interval,int(close_time))"
   ]
  },
  {
   "cell_type": "code",
   "execution_count": 119,
   "metadata": {},
   "outputs": [
    {
     "data": {
      "text/plain": [
       "[1551099060000,\n",
       " '3800.59000000',\n",
       " '3802.19000000',\n",
       " '3798.00000000',\n",
       " '3801.96000000',\n",
       " '40.87638800',\n",
       " 1551099119999,\n",
       " '155348.38237033',\n",
       " 160,\n",
       " '27.52299500',\n",
       " '104601.48427089',\n",
       " '0']"
      ]
     },
     "execution_count": 119,
     "metadata": {},
     "output_type": "execute_result"
    }
   ],
   "source": [
    "hist_new[0]"
   ]
  },
  {
   "cell_type": "code",
   "execution_count": 120,
   "metadata": {},
   "outputs": [
    {
     "data": {
      "text/plain": [
       "[1551099000000,\n",
       " '3803.74000000',\n",
       " '3803.96000000',\n",
       " '3798.61000000',\n",
       " '3800.02000000',\n",
       " '18.87867300',\n",
       " 1551099059999,\n",
       " '71768.83035888',\n",
       " 149,\n",
       " '9.49214500',\n",
       " '36087.01359628',\n",
       " '0']"
      ]
     },
     "execution_count": 120,
     "metadata": {},
     "output_type": "execute_result"
    }
   ],
   "source": [
    "hist[len(hist)-1]"
   ]
  },
  {
   "cell_type": "code",
   "execution_count": 174,
   "metadata": {
    "collapsed": true
   },
   "outputs": [],
   "source": [
    "Candle.Index.name = 'teste'"
   ]
  },
  {
   "cell_type": "code",
   "execution_count": 175,
   "metadata": {},
   "outputs": [
    {
     "data": {
      "text/plain": [
       "'teste'"
      ]
     },
     "execution_count": 175,
     "metadata": {},
     "output_type": "execute_result"
    }
   ],
   "source": [
    "Candle.Index.name"
   ]
  },
  {
   "cell_type": "code",
   "execution_count": null,
   "metadata": {
    "collapsed": true
   },
   "outputs": [],
   "source": []
  }
 ],
 "metadata": {
  "kernelspec": {
   "display_name": "Python 3",
   "language": "python",
   "name": "python3"
  },
  "language_info": {
   "codemirror_mode": {
    "name": "ipython",
    "version": 3
   },
   "file_extension": ".py",
   "mimetype": "text/x-python",
   "name": "python",
   "nbconvert_exporter": "python",
   "pygments_lexer": "ipython3",
   "version": "3.6.3"
  }
 },
 "nbformat": 4,
 "nbformat_minor": 2
}
