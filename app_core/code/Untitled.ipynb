{
 "cells": [
  {
   "cell_type": "code",
   "execution_count": 1,
   "metadata": {},
   "outputs": [
    {
     "name": "stdout",
     "output_type": "stream",
     "text": [
      "True\n",
      "{'cluster_name': 'docker-cluster', 'status': 'yellow', 'timed_out': False, 'number_of_nodes': 1, 'number_of_data_nodes': 1, 'active_primary_shards': 7, 'active_shards': 7, 'relocating_shards': 0, 'initializing_shards': 0, 'unassigned_shards': 7, 'delayed_unassigned_shards': 0, 'number_of_pending_tasks': 0, 'number_of_in_flight_fetch': 0, 'task_max_waiting_in_queue_millis': 0, 'active_shards_percent_as_number': 50.0}\n"
     ]
    }
   ],
   "source": [
    "from datetime import datetime\n",
    "from elasticsearch_dsl import Document, Date, Integer, Keyword, Text\n",
    "from elasticsearch_dsl.connections import connections\n",
    "\n",
    "# Define a default Elasticsearch client\n",
    "connections.create_connection(hosts=['localhost'])\n",
    "\n",
    "class Article(Document):\n",
    "    title = Text(analyzer='snowball', fields={'raw': Keyword()})\n",
    "    body = Text(analyzer='snowball')\n",
    "    tags = Keyword()\n",
    "    published_from = Date()\n",
    "    lines = Integer()\n",
    "\n",
    "    class Index:\n",
    "        name = 'blog'\n",
    "        settings = {\n",
    "          \"number_of_shards\": 2,\n",
    "        }\n",
    "\n",
    "    def save(self, ** kwargs):\n",
    "        self.lines = len(self.body.split())\n",
    "        return super(Article, self).save(** kwargs)\n",
    "\n",
    "    def is_published(self):\n",
    "        return datetime.now() >= self.published_from\n",
    "\n",
    "# create the mappings in elasticsearch\n",
    "Article.init()\n",
    "\n",
    "# create and save and article\n",
    "article = Article(meta={'id': 42}, title='Hello world!', tags=['test'])\n",
    "article.body = ''' looong text '''\n",
    "article.published_from = datetime.now()\n",
    "article.save()\n",
    "\n",
    "article = Article.get(id=42)\n",
    "print(article.is_published())\n",
    "\n",
    "# Display cluster health\n",
    "print(connections.get_connection().cluster.health())"
   ]
  },
  {
   "cell_type": "code",
   "execution_count": 2,
   "metadata": {},
   "outputs": [
    {
     "name": "stdout",
     "output_type": "stream",
     "text": [
      "True\n"
     ]
    }
   ],
   "source": [
    "print(article.is_published())"
   ]
  },
  {
   "cell_type": "code",
   "execution_count": 3,
   "metadata": {},
   "outputs": [],
   "source": [
    "article = Article.get(id=42)"
   ]
  },
  {
   "cell_type": "code",
   "execution_count": 4,
   "metadata": {},
   "outputs": [
    {
     "name": "stdout",
     "output_type": "stream",
     "text": [
      "Article(index='blog', doc_type='doc', id='42')\n"
     ]
    }
   ],
   "source": [
    "print (article)"
   ]
  },
  {
   "cell_type": "code",
   "execution_count": null,
   "metadata": {},
   "outputs": [],
   "source": []
  }
 ],
 "metadata": {
  "kernelspec": {
   "display_name": "Python 3",
   "language": "python",
   "name": "python3"
  },
  "language_info": {
   "codemirror_mode": {
    "name": "ipython",
    "version": 3
   },
   "file_extension": ".py",
   "mimetype": "text/x-python",
   "name": "python",
   "nbconvert_exporter": "python",
   "pygments_lexer": "ipython3",
   "version": "3.7.1"
  }
 },
 "nbformat": 4,
 "nbformat_minor": 2
}
