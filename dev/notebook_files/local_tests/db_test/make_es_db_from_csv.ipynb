{
 "cells": [
  {
   "cell_type": "code",
   "execution_count": 10,
   "metadata": {},
   "outputs": [],
   "source": [
    "#!/usr/bin/env python3\n",
    "\n",
    "#Importando bibliotecas\n",
    "\n",
    "#import elasticsearch_dsl\n",
    "from elasticsearch_dsl import Document, Float\n",
    "from elasticsearch_dsl.connections import connections\n",
    "\n",
    "import pandas as pd\n",
    "\n",
    "import sys\n",
    "import os\n",
    "\n",
    "from datetime import datetime\n",
    "import time"
   ]
  },
  {
   "cell_type": "code",
   "execution_count": 11,
   "metadata": {},
   "outputs": [],
   "source": [
    "#Lendo os dados .csv\n",
    "\n",
    "csv_data_path = os.getcwd().split(sep=\"notebook_files/local_tests/db_test\")[0] +'local_tests/db_test/'\n",
    "\n",
    "market_data = pd.read_csv(csv_data_path+'dados.csv', index_col='Open_time', parse_dates=['Open_time','Close_time'], infer_datetime_format=True)    "
   ]
  },
  {
   "cell_type": "code",
   "execution_count": 12,
   "metadata": {},
   "outputs": [],
   "source": [
    "connections.create_connection(hosts=['localhost'])\n",
    "\n",
    "class Candle(Document):\n",
    "    Open = Float()\n",
    "    High = Float()\n",
    "    Low = Float()\n",
    "    Close = Float()\n",
    "    Volume = Float()\n",
    "    N_of_trades = Float()\n",
    "    \n",
    "    class Index:\n",
    "        name = 'marketdata-btcusdt-binance'\n",
    "    \n",
    "    def save(self, **kwargs):\n",
    "        return super(Candle, self).save(**kwargs)\n",
    "    \n",
    "Candle.init()\n",
    "\n",
    "for i in range(0,len(market_data)):\n",
    "    candle = Candle(meta={'id': time.mktime((market_data.index[i]).timetuple())})\n",
    "    candle.Open = float(market_data.Open[i])\n",
    "    candle.High = float(market_data.High[i])\n",
    "    candle.Low = float(market_data.Low[i])\n",
    "    candle.Close = float(market_data.Close[i])\n",
    "    candle.Volume = float(market_data.Volume[i])\n",
    "    candle.N_of_trades = float(market_data.N_of_trades[i])\n",
    "   \n",
    "    candle.save()\n",
    "    \n",
    "#First ID of this test = 1505491200.0\n",
    "#Step = 900 (60s*15 = 15m candle)"
   ]
  },
  {
   "cell_type": "code",
   "execution_count": 5,
   "metadata": {},
   "outputs": [
    {
     "data": {
      "text/plain": [
       "1505491200.0"
      ]
     },
     "execution_count": 5,
     "metadata": {},
     "output_type": "execute_result"
    }
   ],
   "source": [
    "time.mktime((market_data.index[0]).timetuple())"
   ]
  }
 ],
 "metadata": {
  "kernelspec": {
   "display_name": "Python 3",
   "language": "python",
   "name": "python3"
  },
  "language_info": {
   "codemirror_mode": {
    "name": "ipython",
    "version": 3
   },
   "file_extension": ".py",
   "mimetype": "text/x-python",
   "name": "python",
   "nbconvert_exporter": "python",
   "pygments_lexer": "ipython3",
   "version": "3.7.1"
  }
 },
 "nbformat": 4,
 "nbformat_minor": 2
}
