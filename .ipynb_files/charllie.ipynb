{
 "cells": [
  {
   "cell_type": "markdown",
   "metadata": {},
   "source": [
    "PROGRAMA PRINCIPAL"
   ]
  },
  {
   "cell_type": "code",
   "execution_count": null,
   "metadata": {},
   "outputs": [],
   "source": [
    "#Bibliotecas e módulos\n",
    "\n",
    "import sys\n",
    "import os\n",
    "from datetime import datetime\n",
    "from datetime import date\n",
    "import time\n",
    "\n",
    "import modules\n",
    "from modules import func\n",
    "from modules import coleta\n",
    "from modules import estrategia\n",
    "from modules import acao\n",
    "from modules import log\n",
    "from modules import notifica_ciclo"
   ]
  },
  {
   "cell_type": "code",
   "execution_count": null,
   "metadata": {},
   "outputs": [],
   "source": [
    "#Procura os diretórios de dados e log, se não existirem, cria-os.\n",
    "\n",
    "param = open('parametros.txt').readlines(); par = param[1].split()[2]\n",
    "\n",
    "par = param[1].split()[2]; candle = param[0].split()[2]; medcurta = int(param[2].split()[2])\n",
    "medlonga = int(param[3].split()[2])\n",
    "\n",
    "datapath = str(param[4].split()[2]).format(par,candle); data_name = 'dados.csv'\n",
    "\n",
    "logpath = str(param[6].split()[2]).format(par,candle)\n",
    "\n",
    "log_name = '{}m_{}x{}-log.csv'.format(candle,medcurta,medlonga)\n",
    "\n",
    "if not os.path.exists(datapath): os.makedirs(datapath)\n",
    "\n",
    "if not os.path.exists(logpath):os.makedirs(logpath)"
   ]
  },
  {
   "cell_type": "code",
   "execution_count": null,
   "metadata": {},
   "outputs": [],
   "source": [
    "#Programa propriamente dito\n",
    "\n",
    "i=0; mmc = 0.0; mml = 0.0\n",
    "notificacao = datetime.now()\n",
    "inicio = datetime.now()\n",
    "mess = 'PAR {}: (Re)Início de Ciclos'.format(par)\n",
    "func.adriano('controle',mess)\n",
    "\n",
    "while True:\n",
    "    print('cilco {}:'.format(i)) #TESTE, APAGAR DEPOIS DE OK\n",
    "    print(' ') #TESTE, APAGAR DEPOIS DE OK\n",
    "    \n",
    "    #Coleta de dados\n",
    "    dados,tempo = coleta.prod(param)\n",
    "    \n",
    "    #Se atualizou o arquivo de dados, testa a estratégia\n",
    "    if (tempo != 'bypass' or i == 0): #caso seja a primeira vez ciclando, tem de testar devido a possibilidade de falha\n",
    "        ordem,mmc,mml = estrategia.prod(dados,param)\n",
    "        print(' ') #TESTE, APAGAR DEPOIS DE OK\n",
    "\n",
    "        mess = 'Ordem = {}, MMC = {}, MML = {}'.format(ordem,mmc,mml) #TESTE, APAGAR DEPOIS DE OK\n",
    "        print(mess) #TESTE, APAGAR DEPOIS DE OK\n",
    "        print(' ') #TESTE, APAGAR DEPOIS DE OK\n",
    "\n",
    "        instante,ativo,base,taxa,preco_inst,preco_mov = acao.prod(param,ordem)\n",
    "        print(' ') #TESTE, APAGAR DEPOIS DE OK\n",
    "        \n",
    "        mess = 'instante = {},ativo = {},base = {},taxa = {},preco_inst = {},preco_mov = {}.'.format(instante,ativo,base,taxa,preco_inst,preco_mov)  #TESTE, APAGAR DEPOIS DE OK\n",
    "        print(mess) #TESTE, APAGAR DEPOIS DE OK\n",
    "        print(' ') #TESTE, APAGAR DEPOIS DE OK\n",
    "\n",
    "        log_df = log.prod(param,ordem,mmc,mml,instante,ativo,base,taxa,preco_inst,preco_mov)\n",
    "        \n",
    "    notificacao = notifica_ciclo.prod(i, inicio, param, mmc, mml, notificacao) #chmar notificação em i=0 e i=1\n",
    "    \n",
    "    i+=1\n",
    "    \n",
    "    #Calcula o tempo de descanso\n",
    "    dif_minut = abs(float(((datetime.now() - dados.Close_time[len(dados)-1]).total_seconds() - 1)/60))\n",
    "    descanso = int( abs((float(candle) - float(dif_minut))*60) ) \n",
    "    \n",
    "    #Testes\n",
    "    print (' ')\n",
    "    print(dados.Close_time[-5:])\n",
    "    print (' ')\n",
    "    print ('agora = ',datetime.now())\n",
    "    \n",
    "    print(' ') #TESTE, APAGAR DEPOIS DE OKq\n",
    "    print('Time sleep de {} seg'.format(descanso))\n",
    "    \n",
    "    time.sleep(descanso)"
   ]
  },
  {
   "cell_type": "code",
   "execution_count": null,
   "metadata": {},
   "outputs": [],
   "source": []
  },
  {
   "cell_type": "code",
   "execution_count": null,
   "metadata": {},
   "outputs": [],
   "source": []
  }
 ],
 "metadata": {
  "kernelspec": {
   "display_name": "Python 3",
   "language": "python",
   "name": "python3"
  },
  "language_info": {
   "codemirror_mode": {
    "name": "ipython",
    "version": 3
   },
   "file_extension": ".py",
   "mimetype": "text/x-python",
   "name": "python",
   "nbconvert_exporter": "python",
   "pygments_lexer": "ipython3",
   "version": "3.7.0"
  }
 },
 "nbformat": 4,
 "nbformat_minor": 2
}
